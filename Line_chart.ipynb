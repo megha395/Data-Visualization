{
 "cells": [
  {
   "cell_type": "code",
   "execution_count": 17,
   "metadata": {},
   "outputs": [],
   "source": [
    "import pandas as pd\n",
    "import pprint\n",
    "import plotly.express as px"
   ]
  },
  {
   "cell_type": "code",
   "execution_count": 4,
   "metadata": {},
   "outputs": [
    {
     "name": "stdout",
     "output_type": "stream",
     "text": [
      "           Date  Shape of You  Despacito  Something Just Like This    HUMBLE.  \\\n",
      "0    2017-01-06      12287078        NaN                       NaN        NaN   \n",
      "1    2017-01-07      13190270        NaN                       NaN        NaN   \n",
      "2    2017-01-08      13099919        NaN                       NaN        NaN   \n",
      "3    2017-01-09      14506351        NaN                       NaN        NaN   \n",
      "4    2017-01-10      14275628        NaN                       NaN        NaN   \n",
      "..          ...           ...        ...                       ...        ...   \n",
      "361  2018-01-05       4492978  3450315.0                 2408365.0  2685857.0   \n",
      "362  2018-01-06       4416476  3394284.0                 2188035.0  2559044.0   \n",
      "363  2018-01-07       4009104  3020789.0                 1908129.0  2350985.0   \n",
      "364  2018-01-08       4135505  2755266.0                 2023251.0  2523265.0   \n",
      "365  2018-01-09       4168506  2791601.0                 2058016.0  2727678.0   \n",
      "\n",
      "     Unforgettable  \n",
      "0              NaN  \n",
      "1              NaN  \n",
      "2              NaN  \n",
      "3              NaN  \n",
      "4              NaN  \n",
      "..             ...  \n",
      "361      2869783.0  \n",
      "362      2743748.0  \n",
      "363      2441045.0  \n",
      "364      2622693.0  \n",
      "365      2627334.0  \n",
      "\n",
      "[366 rows x 6 columns]\n"
     ]
    }
   ],
   "source": [
    "data = pd.read_csv(\"spotify_data.csv\")\n",
    "pprint.pprint(data)"
   ]
  },
  {
   "cell_type": "code",
   "execution_count": 5,
   "metadata": {},
   "outputs": [],
   "source": [
    "data = data.dropna()"
   ]
  },
  {
   "cell_type": "code",
   "execution_count": 14,
   "metadata": {},
   "outputs": [
    {
     "name": "stdout",
     "output_type": "stream",
     "text": [
      "          Date  Shape of You  Despacito  Something Just Like This    HUMBLE.  \\\n",
      "91  2017-04-07      13042637  6533680.0                 9736931.0  8055220.0   \n",
      "92  2017-04-08      12815920  6660608.0                 9334494.0  7280150.0   \n",
      "93  2017-04-09      11291392  5683746.0                 8077875.0  6396104.0   \n",
      "94  2017-04-10      11819128  5762588.0                 8678774.0  7162611.0   \n",
      "95  2017-04-11      11736951  5877897.0                 8591469.0  7468021.0   \n",
      "\n",
      "    Unforgettable  \n",
      "91       317011.0  \n",
      "92       308838.0  \n",
      "93       756145.0  \n",
      "94       954504.0  \n",
      "95       953037.0  \n",
      "(275, 6)\n",
      "Index(['Date', 'Shape of You', 'Despacito', 'Something Just Like This',\n",
      "       'HUMBLE.', 'Unforgettable'],\n",
      "      dtype='object')\n"
     ]
    }
   ],
   "source": [
    "print(data.head(5))\n",
    "print(data.shape)\n",
    "print(data.columns)"
   ]
  },
  {
   "cell_type": "code",
   "execution_count": 20,
   "metadata": {},
   "outputs": [],
   "source": [
    "fig = px.line(x=data['Shape of You'], y=data['Despacito'], title='Spotify Line Graph')"
   ]
  },
  {
   "cell_type": "code",
   "execution_count": null,
   "metadata": {},
   "outputs": [],
   "source": []
  },
  {
   "cell_type": "code",
   "execution_count": null,
   "metadata": {},
   "outputs": [],
   "source": []
  }
 ],
 "metadata": {
  "kernelspec": {
   "display_name": "Python 3",
   "language": "python",
   "name": "python3"
  },
  "language_info": {
   "codemirror_mode": {
    "name": "ipython",
    "version": 3
   },
   "file_extension": ".py",
   "mimetype": "text/x-python",
   "name": "python",
   "nbconvert_exporter": "python",
   "pygments_lexer": "ipython3",
   "version": "3.9.13"
  }
 },
 "nbformat": 4,
 "nbformat_minor": 2
}
